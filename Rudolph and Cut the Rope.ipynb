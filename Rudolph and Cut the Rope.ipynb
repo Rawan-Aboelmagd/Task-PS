{
 "cells": [
  {
   "cell_type": "code",
   "execution_count": 2,
   "id": "8d07a011-2571-4602-8828-8a5c60f1ebe4",
   "metadata": {},
   "outputs": [],
   "source": [
    "import numpy as np"
   ]
  },
  {
   "cell_type": "code",
   "execution_count": 6,
   "id": "2feb3722-1c01-41f6-9070-7cd90bc2368a",
   "metadata": {},
   "outputs": [],
   "source": [
    "def sum_cut_ropes(x):\n",
    "    n = x.shape[0]\n",
    "    list_boolean = []\n",
    "    for i in range(n):\n",
    "        if x[i,0] > x[i , 1]:\n",
    "            list_boolean.append(1)\n",
    "        else:\n",
    "            list_boolean.append(0)\n",
    "    total = sum(list_boolean)\n",
    "    return total"
   ]
  },
  {
   "cell_type": "code",
   "execution_count": 7,
   "id": "7b084378-9518-49f0-8ef6-aeada65f50ce",
   "metadata": {},
   "outputs": [],
   "source": [
    "x = np.array([\n",
    "   [ 4, 3],\n",
    "[3 ,1],\n",
    "[1, 2]\n",
    "])"
   ]
  },
  {
   "cell_type": "code",
   "execution_count": 8,
   "id": "6081af79-5b35-4af5-85c3-ae7c29661060",
   "metadata": {},
   "outputs": [
    {
     "data": {
      "text/plain": [
       "2"
      ]
     },
     "execution_count": 8,
     "metadata": {},
     "output_type": "execute_result"
    }
   ],
   "source": [
    "sum_cut_ropes(x)"
   ]
  },
  {
   "cell_type": "code",
   "execution_count": 9,
   "id": "94f8c175-a08b-43d8-9344-4c12aeaafe1b",
   "metadata": {},
   "outputs": [],
   "source": [
    "y = np.array([\n",
    "   [ 9, 2],\n",
    "[5, 2],\n",
    "[7 ,7],\n",
    "[3, 4]\n",
    "])"
   ]
  },
  {
   "cell_type": "code",
   "execution_count": 10,
   "id": "fde0b951-515f-4454-a15f-f8e561f3bcd5",
   "metadata": {},
   "outputs": [
    {
     "data": {
      "text/plain": [
       "2"
      ]
     },
     "execution_count": 10,
     "metadata": {},
     "output_type": "execute_result"
    }
   ],
   "source": [
    "sum_cut_ropes(y)"
   ]
  },
  {
   "cell_type": "code",
   "execution_count": 11,
   "id": "d38a681b-be8e-477c-86c2-b4184a5c1b62",
   "metadata": {},
   "outputs": [],
   "source": [
    "g = np.array([\n",
    "    [11 ,7],\n",
    "[5 ,10],\n",
    "[12, 9],\n",
    "[3, 2],\n",
    "[1 ,5]\n",
    "])"
   ]
  },
  {
   "cell_type": "code",
   "execution_count": 12,
   "id": "9acaf89d-24b8-4852-b3da-3fa462f7cc69",
   "metadata": {},
   "outputs": [
    {
     "data": {
      "text/plain": [
       "3"
      ]
     },
     "execution_count": 12,
     "metadata": {},
     "output_type": "execute_result"
    }
   ],
   "source": [
    "sum_cut_ropes(g)"
   ]
  }
 ],
 "metadata": {
  "kernelspec": {
   "display_name": "Python 3 (ipykernel)",
   "language": "python",
   "name": "python3"
  },
  "language_info": {
   "codemirror_mode": {
    "name": "ipython",
    "version": 3
   },
   "file_extension": ".py",
   "mimetype": "text/x-python",
   "name": "python",
   "nbconvert_exporter": "python",
   "pygments_lexer": "ipython3",
   "version": "3.11.5"
  }
 },
 "nbformat": 4,
 "nbformat_minor": 5
}
