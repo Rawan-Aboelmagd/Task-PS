{
 "cells": [
  {
   "cell_type": "code",
   "execution_count": 25,
   "id": "37c70741-7723-4106-ae07-dd95701a340f",
   "metadata": {},
   "outputs": [],
   "source": [
    "def compute_sum(x):\n",
    "    y = [x] \n",
    "    while x != 0:\n",
    "        if x%2 == 0:\n",
    "            x = x/2 \n",
    "            x = int(x)\n",
    "            y.append(x)\n",
    "        else:\n",
    "            x = x-1\n",
    "            x = x/2\n",
    "            x = int(x)\n",
    "            y.append(x)\n",
    "    total_sum = sum(y)\n",
    "    return total_sum"
   ]
  },
  {
   "cell_type": "code",
   "execution_count": 26,
   "id": "5470b1c1-58f0-4679-b96a-412a76873ed5",
   "metadata": {},
   "outputs": [
    {
     "name": "stdout",
     "output_type": "stream",
     "text": [
      "4\n",
      "18\n",
      "71\n",
      "1\n",
      "19999999999999980\n",
      "26\n"
     ]
    }
   ],
   "source": [
    "test = [3 , 10 , 37, 1 , 10000000000000000 , 15 ]\n",
    "for i in test:\n",
    "    output= compute_sum(i)\n",
    "    print(output)"
   ]
  }
 ],
 "metadata": {
  "kernelspec": {
   "display_name": "Python 3 (ipykernel)",
   "language": "python",
   "name": "python3"
  },
  "language_info": {
   "codemirror_mode": {
    "name": "ipython",
    "version": 3
   },
   "file_extension": ".py",
   "mimetype": "text/x-python",
   "name": "python",
   "nbconvert_exporter": "python",
   "pygments_lexer": "ipython3",
   "version": "3.11.5"
  }
 },
 "nbformat": 4,
 "nbformat_minor": 5
}
